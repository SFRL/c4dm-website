{
 "cells": [
  {
   "cell_type": "code",
   "execution_count": 7,
   "metadata": {},
   "outputs": [
    {
     "name": "stdout",
     "output_type": "stream",
     "text": [
      "['tonystockman.json', 'davidsudholt.json', 'johanpauwels.json', 'louisethorpe.json', 'nickbryan-kinns.json', 'andreamartelloni.json', 'adanbenito.json', 'helenbear.json', 'antonellatorrisi.json', 'coreyford.json', 'harnickkhera.json', 'matthiasmauch.json', 'joshuadreiss.json', 'andreaguidi.json', 'oluremifalowo.json', 'daliasenvaityte.json', 'arjunpankajakshan.json', 'cyrusvahidi.json', 'pelinskiteresa.json', 'jonathanwinfield.json', 'maryamtorshizi.json', 'elizabethwilson.json', 'marksandler.json', 'lucamarinelli.json', 'jinchengzhang.json', 'benjaminhayes.json', 'jacobharrison.json', 'matthewpurver.json', 'davefoster.json', 'emmanouilbenetos.json', 'thomaskaplan.json', 'lewiswolstanholme.json', 'adamgarrow.json', 'iacopoghinassi.json', 'ilariamanco.json', 'saurjyasarkar.json', 'tylermcintosh.json', 'shubhrsingh.json', 'maxgraf.json', 'bleizdelsette.json', 'yixiaozhang.json', 'nellygarcia.json', 'yinjyunluo.json', 'yuanyuanliu.json', 'mathieubarthet.json', 'ashleynoelhirst.json', 'eleanorrow.json', 'christiansteinmetz.json', 'jinhualiang.json', 'alexanderwilliams.json', 'chengyewu.json', 'jianingzheng.json', 'madelinehamilton.json', 'andrewmcpherson.json', 'inesnolasco.json', 'marcocomunita.json', 'geraintwiggins.json', 'yinghaoma.json', 'yannisvasilakis.json', 'berkerbanar.json', 'sungkyunchang.json', 'jordieshier.json', 'adityabhattacharjee.json', 'garybromham.json', 'christophermitcheltree.json', 'yukunli.json', 'careybunks.json', 'gyorgyfazekas.json', 'sebastianruiz.json', 'pathealey.json', 'jiawenhuang.json', 'simondixon.json', 'chriswinnard.json', 'ningzhiwang.json', 'jamesweaver.json', 'edwardhall.json', 'chinyunyu.json', 'alvarobort.json', 'soumyavanka.json', 'Iliasibnyahya.json', 'huanzhang.json', 'andrewedwards.json', 'brendanoconnor.json', 'vjosapreniqi.json', 'elonashatri.json', 'xavierriley.json', 'marypilataki.json', 'carloslordelo.json', 'jingjingtang.json', 'domenicostefani.json', 'charissaitis.json', 'leleliu.json', 'giacomolipri.json', 'rubycrocker.json', 'marcuspearce.json', 'jamesbolt.json', 'pedrosarmento.json', 'veronicamorfi.json']\n",
      "tonystockman.json\n",
      "davidsudholt.json\n",
      "johanpauwels.json\n",
      "louisethorpe.json\n",
      "nickbryan-kinns.json\n",
      "andreamartelloni.json\n",
      "adanbenito.json\n",
      "helenbear.json\n",
      "antonellatorrisi.json\n",
      "coreyford.json\n",
      "harnickkhera.json\n",
      "matthiasmauch.json\n",
      "joshuadreiss.json\n",
      "andreaguidi.json\n",
      "oluremifalowo.json\n",
      "daliasenvaityte.json\n",
      "arjunpankajakshan.json\n",
      "cyrusvahidi.json\n",
      "pelinskiteresa.json\n",
      "jonathanwinfield.json\n",
      "maryamtorshizi.json\n",
      "elizabethwilson.json\n",
      "marksandler.json\n",
      "lucamarinelli.json\n",
      "jinchengzhang.json\n",
      "benjaminhayes.json\n",
      "jacobharrison.json\n",
      "matthewpurver.json\n",
      "davefoster.json\n",
      "emmanouilbenetos.json\n",
      "thomaskaplan.json\n",
      "lewiswolstanholme.json\n",
      "adamgarrow.json\n",
      "iacopoghinassi.json\n",
      "ilariamanco.json\n",
      "saurjyasarkar.json\n",
      "tylermcintosh.json\n",
      "shubhrsingh.json\n",
      "maxgraf.json\n",
      "bleizdelsette.json\n",
      "yixiaozhang.json\n",
      "nellygarcia.json\n",
      "yinjyunluo.json\n",
      "yuanyuanliu.json\n",
      "mathieubarthet.json\n",
      "ashleynoelhirst.json\n",
      "eleanorrow.json\n",
      "christiansteinmetz.json\n",
      "jinhualiang.json\n",
      "alexanderwilliams.json\n",
      "chengyewu.json\n",
      "jianingzheng.json\n",
      "madelinehamilton.json\n",
      "andrewmcpherson.json\n",
      "inesnolasco.json\n",
      "marcocomunita.json\n",
      "geraintwiggins.json\n",
      "yinghaoma.json\n",
      "yannisvasilakis.json\n",
      "berkerbanar.json\n",
      "sungkyunchang.json\n",
      "jordieshier.json\n",
      "adityabhattacharjee.json\n",
      "garybromham.json\n",
      "christophermitcheltree.json\n",
      "yukunli.json\n",
      "careybunks.json\n",
      "gyorgyfazekas.json\n",
      "sebastianruiz.json\n",
      "pathealey.json\n",
      "jiawenhuang.json\n",
      "simondixon.json\n",
      "chriswinnard.json\n",
      "ningzhiwang.json\n",
      "jamesweaver.json\n",
      "edwardhall.json\n",
      "chinyunyu.json\n",
      "alvarobort.json\n",
      "soumyavanka.json\n",
      "Iliasibnyahya.json\n",
      "huanzhang.json\n",
      "andrewedwards.json\n",
      "brendanoconnor.json\n",
      "vjosapreniqi.json\n",
      "elonashatri.json\n",
      "xavierriley.json\n",
      "marypilataki.json\n",
      "carloslordelo.json\n",
      "jingjingtang.json\n",
      "domenicostefani.json\n",
      "charissaitis.json\n",
      "leleliu.json\n",
      "giacomolipri.json\n",
      "rubycrocker.json\n",
      "marcuspearce.json\n",
      "jamesbolt.json\n",
      "pedrosarmento.json\n",
      "veronicamorfi.json\n"
     ]
    }
   ],
   "source": [
    "import os, json\n",
    "import pandas as pd\n",
    "\n",
    "path_to_json = './'\n",
    "json_files = [pos_json for pos_json in os.listdir(path_to_json) if pos_json.endswith('.json')]\n",
    "print(json_files)  # for me this prints ['foo.json']\n",
    "\n",
    "for file in json_files:\n",
    "\n",
    "    print(file)\n",
    "    f = open(file)\n",
    "    data = json.load(f)\n",
    "    sep = '.'\n",
    "    name = file.split(sep, 1)[0]\n",
    "    mdName= name + \".md\"\n",
    "\n",
    "    with open(mdName, 'w') as f:\n",
    "        f.write(\"---\")\n",
    "        f.write(\"\\n\")\n",
    "        for line in data:\n",
    "            if (line != \"blurb\"):\n",
    "                f.write(line + \": \")\n",
    "                if(type(data[line])==list):\n",
    "                    if (len(data[line])>0):\n",
    "                        f.write(\"[\")\n",
    "                        for idx,elem in enumerate(data[line]):\n",
    "                            if(idx<len(data[line])-1):\n",
    "                                f.write('\"' + elem + '\"' + \",\")\n",
    "                            else:\n",
    "                                f.write('\"' + elem + '\"' + \"]\")\n",
    "                    else:\n",
    "                        f.write(\"[]\")\n",
    "                        \n",
    "\n",
    "                else:\n",
    "                    f.write('\"' + data[line] + '\"')\n",
    "\n",
    "                f.write('\\n')\n",
    "        f.write('image: \"./defaultprofile.png\"')\n",
    "        f.write('\\n')\n",
    "        f.write(\"---\")\n",
    "        f.write('\\n')\n"
   ]
  },
  {
   "cell_type": "code",
   "execution_count": 50,
   "metadata": {},
   "outputs": [
    {
     "data": {
      "text/plain": [
       "2"
      ]
     },
     "execution_count": 50,
     "metadata": {},
     "output_type": "execute_result"
    }
   ],
   "source": [
    "len(data[\"themes\"])"
   ]
  },
  {
   "cell_type": "code",
   "execution_count": 65,
   "metadata": {},
   "outputs": [
    {
     "name": "stdout",
     "output_type": "stream",
     "text": [
      "['Being (A)part of NIME_ Embracing Latin American Perspectives_backup.json', 'adamgarrow.json', 'yinjyunluo.json']\n"
     ]
    }
   ],
   "source": [
    "import os, json\n",
    "import pandas as pd\n",
    "\n",
    "path_to_json = './'\n",
    "json_files = [pos_json for pos_json in os.listdir(path_to_json) if pos_json.endswith('.json')]\n",
    "print(json_files)  # for me this prints ['foo.json']"
   ]
  },
  {
   "cell_type": "code",
   "execution_count": null,
   "metadata": {},
   "outputs": [],
   "source": []
  }
 ],
 "metadata": {
  "kernelspec": {
   "display_name": "Python 3",
   "language": "python",
   "name": "python3"
  },
  "language_info": {
   "codemirror_mode": {
    "name": "ipython",
    "version": 3
   },
   "file_extension": ".py",
   "mimetype": "text/x-python",
   "name": "python",
   "nbconvert_exporter": "python",
   "pygments_lexer": "ipython3",
   "version": "3.8.5"
  }
 },
 "nbformat": 4,
 "nbformat_minor": 4
}
